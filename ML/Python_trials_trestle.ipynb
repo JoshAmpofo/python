{
  "cells": [
    {
      "cell_type": "markdown",
      "metadata": {
        "id": "KkDqPta109FI"
      },
      "source": [
        "# Online Bookstore"
      ]
    },
    {
      "cell_type": "markdown",
      "metadata": {
        "id": "WN1iP0pk1fpu"
      },
      "source": [
        "# Pseudocode\n",
        "\n",
        "1. Ask user for order total (dtype = float)\n",
        "2. Ask user for order type (international/local). Implement .lower/.upper methods here\n",
        "3. Implement If/Else/try-except block here:\n",
        "  a. if order total greater than or equal to USD 50 and order is domestic, return order total and free shipping value (wrap in a try block). \n",
        "  b. else if order is local and below USD50, add USD 5 to total order and return value.\n",
        "  c. if order is international, add USD 10 to total order and return value.\n",
        "4. Except block should prompt user to enter correct parameters where approriate. "
      ]
    },
    {
      "cell_type": "markdown",
      "metadata": {
        "id": "5uw9WRpz4MhB"
      },
      "source": [
        "# Code Implementation"
      ]
    },
    {
      "cell_type": "code",
      "execution_count": null,
      "metadata": {
        "colab": {
          "base_uri": "https://localhost:8080/"
        },
        "id": "3JLIfSCr4QnX",
        "outputId": "f3e596f6-3fd5-481f-9971-d297ed6d1b0d"
      },
      "outputs": [
        {
          "name": "stdout",
          "output_type": "stream",
          "text": [
            "Welcome to the Online Bookstore!\n",
            "\n",
            "Please enter the order total: $ 20.4\n",
            "Is the order international? (Y/N): y\n",
            "The total cost of your order is $30.4. Shipping fee: $10\n",
            "\n",
            "Thank you! Come again soon!\n"
          ]
        }
      ],
      "source": [
        "print(\"Welcome to the Online Bookstore!\\n\")\n",
        "# Ask user for input\n",
        "while True:\n",
        "  try:\n",
        "    order_total = float(input('Please enter the order total: $ '))\n",
        "    if order_total <= 0:\n",
        "      print('Sorry, input less than or equal to zero')\n",
        "    else:\n",
        "      break\n",
        "  except ValueError:\n",
        "    print('Sorry you can input only decimal values')\n",
        "\n",
        "order_type = input('Is the order international? (Y/N): ').upper()\n",
        "\n",
        "if (order_total >= 50) and (order_type == 'N'):\n",
        "  print(f'The total cost of your order is ${order_total}, with free shipping!')\n",
        "elif (order_total >= 50) and (order_type == 'Y'):\n",
        "  order_total += 10\n",
        "  print(f'The total cost of your order is ${order_total}. Shipping fee: $10')\n",
        "elif (order_total < 50) and (order_type == 'N'):\n",
        "  order_total += 5\n",
        "  print(f'The total cost of your order is ${order_total}. Shipping fee: $5')\n",
        "elif (order_total < 50) and (order_type == 'Y'):\n",
        "  order_total += 10\n",
        "  print(f'The total cost of your order is ${order_total}. Shipping fee: $10')\n",
        "print('\\nThank you! Come again soon!')"
      ]
    },
    {
      "cell_type": "code",
      "source": [],
      "metadata": {
        "id": "HBAgAIoCIQeK"
      },
      "execution_count": null,
      "outputs": []
    },
    {
      "cell_type": "markdown",
      "metadata": {
        "id": "wqc9gW-NROR-"
      },
      "source": [
        "# Cocoa Farming Profit Calculator\n",
        "\n"
      ]
    },
    {
      "cell_type": "code",
      "execution_count": null,
      "metadata": {
        "colab": {
          "base_uri": "https://localhost:8080/"
        },
        "id": "biBrJ9-6Rw_R",
        "outputId": "334fdf58-3465-4960-eff3-e2c58f4dc959"
      },
      "outputs": [
        {
          "output_type": "stream",
          "name": "stdout",
          "text": [
            "Welcome to the Cocoa Farming Profit Calculator!\n",
            "\n",
            "Please enter the following information\n",
            "\n",
            "Total number of cocoa bags harvested: three thousand\n",
            "Sorry, Invalid input. Enter only numeric values\n",
            "\n",
            "Total number of cocoa bags harvested: -10\n",
            "Sorry, negative values not allowed. Enter only positive values\n",
            "\n",
            "Total number of cocoa bags harvested: 150\n",
            "Average weight per bags (kg): 5.75\n",
            "Current price per kg (GHS): 10.50\n",
            "Labor costs (GHS): 1300\n",
            "Pesticides and fertilizer costs (GHS): 700\n",
            "\n",
            "Calculating your total profit...\n",
            "\n",
            "Total revenue: 9056.25\n",
            "Total expenses: 2000.00\n",
            "Total profit: 7056.25\n",
            "\n",
            "Congratulations! Your total profit for the current harvest season is 7056.25 cedis.\n"
          ]
        }
      ],
      "source": [
        "# welcome message to user\n",
        "print('Welcome to the Cocoa Farming Profit Calculator!\\n\\nPlease enter the following information\\n')\n",
        "\n",
        "# perform user input validation check\n",
        "def check_correct_input_value(prompt):\n",
        "  \"\"\"Run an input validation check on user input\"\"\"\n",
        "  while True:\n",
        "    try:\n",
        "      value = float(input(prompt))\n",
        "      if value < 0:\n",
        "        print('Sorry, negative values not allowed. Enter only positive values\\n')\n",
        "      else:\n",
        "        return value\n",
        "    except ValueError:\n",
        "      print('Sorry, Invalid input. Enter only numeric values\\n') \n",
        "\n",
        "# main program to calculate for respective parameters\n",
        "bags_harvested = check_correct_input_value('Total number of cocoa bags harvested: ')\n",
        "avg_weight = check_correct_input_value('Average weight per bags (kg): ')\n",
        "price_per_kg = check_correct_input_value('Current price per kg (GHS): ')\n",
        "labor_costs = check_correct_input_value('Labor costs (GHS): ')\n",
        "pest_fert_costs = check_correct_input_value('Pesticides and fertilizer costs (GHS): ')\n",
        "  \n",
        "total_revenue = (bags_harvested) * (avg_weight) * (price_per_kg)\n",
        "total_expenses = (labor_costs + pest_fert_costs)\n",
        "total_profit = (total_revenue - total_expenses)\n",
        "\n",
        "# respective print statements\n",
        "print('\\nCalculating your total profit...\\n')\n",
        "print(f'Total revenue: {total_revenue:.2f}\\nTotal expenses: {total_expenses:.2f}\\nTotal profit: {total_profit:.2f}\\n')\n",
        "\n",
        "print(f'Congratulations! Your total profit for the current harvest season is {total_profit:.2f} cedis.')"
      ]
    },
    {
      "cell_type": "code",
      "source": [],
      "metadata": {
        "id": "f5nWKWTXINMa"
      },
      "execution_count": null,
      "outputs": []
    },
    {
      "cell_type": "markdown",
      "source": [
        "# Mobile Money Transactions"
      ],
      "metadata": {
        "id": "dkf7uyFtsxzH"
      }
    },
    {
      "cell_type": "code",
      "source": [
        "# program welcome message\n",
        "print('Welcome to the Mobile Money Transaction Tracker!\\n\\nPlease enter the following information for the day:\\n')\n",
        "\n",
        "# validate user input\n",
        "def check_user_input(prompt):\n",
        "  \"\"\"Runs validation checks and error handling controls on user input\"\"\"\n",
        "  while True:\n",
        "    try:\n",
        "      value = float(input(prompt))\n",
        "      if value < 0:\n",
        "        print('Sorry, negative values not allowed. Enter positive numeric values\\n')\n",
        "      else:\n",
        "        return value\n",
        "    except ValueError:\n",
        "      print('No alphabets allowed! Enter only numbers\\n')\n",
        "\n",
        "# main driver program\n",
        "def net_cash():\n",
        "  \"\"\"Calculates net cash flow of MoMo transactions in a day\"\"\"\n",
        "  total_number_of_transactions_received = check_user_input('Total number of transactions received: ')\n",
        "  total_amount_received = check_user_input('Total amount received (GHS): ')\n",
        "  total_number_of_transcations_sent = check_user_input('Total number of transactions sent: ')\n",
        "  total_amount_sent = check_user_input('Total amount sent (GHS): ')\n",
        "\n",
        "  netcash_flow = total_amount_received - total_amount_sent\n",
        "\n",
        "  print('\\nCalculating your net cash flow...\\n')\n",
        "  print(f'Net cash flow for the day: {netcash_flow:.2f}\\n')\n",
        "  print(f'Congratulations! Your net cash flow for the day is {netcash_flow:.2f} cedis.')\n",
        "\n",
        "\n",
        "# run code\n",
        "net_cash()"
      ],
      "metadata": {
        "colab": {
          "base_uri": "https://localhost:8080/"
        },
        "id": "lRhNYTV4tMdP",
        "outputId": "bf33e890-13f8-402c-c864-f4ec36db277d"
      },
      "execution_count": null,
      "outputs": [
        {
          "output_type": "stream",
          "name": "stdout",
          "text": [
            "Welcome to the Mobile Money Transaction Tracker!\n",
            "\n",
            "Please enter the following information for the day:\n",
            "\n",
            "Total number of transactions received: ten\n",
            "No alphabets allowed! Enter only numbers\n",
            "\n",
            "Total number of transactions received: -10\n",
            "Sorry, negative values not allowed. Enter positive numeric values\n",
            "\n",
            "Total number of transactions received: 20\n",
            "Total amount received (GHS): 2500\n",
            "Total number of transactions sent: 15\n",
            "Total amount sent (GHS): 1800\n",
            "\n",
            "Calculating your net cash flow...\n",
            "\n",
            "Net cash flow for the day: 700.00\n",
            "\n",
            "Congratulations! Your net cash flow for the day is 700.00 cedis\n"
          ]
        }
      ]
    },
    {
      "cell_type": "code",
      "source": [],
      "metadata": {
        "id": "7146dOchznff"
      },
      "execution_count": null,
      "outputs": []
    },
    {
      "cell_type": "markdown",
      "source": [
        "# Repeated Element in an Array"
      ],
      "metadata": {
        "id": "meNhMkhvAI51"
      }
    },
    {
      "cell_type": "code",
      "source": [
        "def find_single_element(arr):\n",
        "  \"\"\"finds the element that occurs only once in an array\"\"\"\n",
        "  single_elements = [elem for elem in arr if arr.count(elem) == 1]\n",
        "  if len(single_elements) == 1: # check if single_element contains only one item\n",
        "    return single_elements[0] # return item if it above is true \n",
        "  else:\n",
        "    return None\n",
        "\n",
        "print(find_single_element([2, 4, 7, 5, 2, 4, 5]))\n",
        "print(find_single_element([1, 1, 2, 3, 3, 4, 4]))"
      ],
      "metadata": {
        "colab": {
          "base_uri": "https://localhost:8080/"
        },
        "id": "z9hkkM4-Ach9",
        "outputId": "04ecb96c-8a19-47d7-de24-44ba94793931"
      },
      "execution_count": null,
      "outputs": [
        {
          "output_type": "stream",
          "name": "stdout",
          "text": [
            "7\n",
            "2\n"
          ]
        }
      ]
    },
    {
      "cell_type": "markdown",
      "source": [
        "# Planting Season"
      ],
      "metadata": {
        "id": "nK58sU_qZLMU"
      }
    },
    {
      "cell_type": "code",
      "source": [
        "def longest_dry_period(rainfall_data):\n",
        "    start_date = None\n",
        "    end_date = None\n",
        "    current_start_day = None\n",
        "    current_end_day = None\n",
        "    longest_period = 0\n",
        "    current_period = 0\n",
        "\n",
        "    for day, rainfall in enumerate(rainfall_data):\n",
        "        if rainfall <= 5: # check for dry periods\n",
        "            if current_period == 0:\n",
        "                current_start_day = day + 1\n",
        "            current_period += 1\n",
        "            current_end_day = day + 1\n",
        "        else: # continue iterating if no dry period is found\n",
        "            if current_period > longest_period:\n",
        "                longest_period = current_period\n",
        "                start_date = current_start\n",
        "                end_date = current_end\n",
        "            current_period = 0 # reset dry period if not found\n",
        "\n",
        "# check if the longest dry period occurs at the end of the data provided\n",
        "    if current_period > longest_period:\n",
        "        longest_period = current_period\n",
        "        start_date = current_start\n",
        "        end_date = current_end\n",
        "\n",
        "    print(f'Start date: {start_date}th week\\nEnd date: {end_date}th week')\n",
        "\n",
        "longest_dry_period([30, 10, 0, 5, 0, 0, 15, 20, 8, 3, 0, 0, 0, 2, 0, 0, 0, 12, 9, 18])"
      ],
      "metadata": {
        "id": "6s3M9_M6ZQEg",
        "colab": {
          "base_uri": "https://localhost:8080/"
        },
        "outputId": "65900e2e-5269-4849-8d84-e9bf1b67c8d0"
      },
      "execution_count": null,
      "outputs": [
        {
          "output_type": "stream",
          "name": "stdout",
          "text": [
            "Start date: 10th week\n",
            "End date: 17th week\n"
          ]
        }
      ]
    },
    {
      "cell_type": "code",
      "source": [],
      "metadata": {
        "id": "06ZBdHJkK9KQ"
      },
      "execution_count": null,
      "outputs": []
    },
    {
      "cell_type": "markdown",
      "source": [
        "# Transport Fare Puzzle (half baked)"
      ],
      "metadata": {
        "id": "Pb9BuzSuK9qz"
      }
    },
    {
      "cell_type": "code",
      "source": [
        "number_of_days_in_month = 20\n",
        "\n",
        "def transport_expenses():\n",
        "  \"\"\"calculates the total amount of transport expenses accrued in a school month\"\"\"\n",
        "  number_of_school_days_1 = float('Enter number of ') "
      ],
      "metadata": {
        "id": "LCKJCsvCLEjG"
      },
      "execution_count": null,
      "outputs": []
    }
  ],
  "metadata": {
    "colab": {
      "provenance": []
    },
    "kernelspec": {
      "display_name": "Python 3",
      "name": "python3"
    },
    "language_info": {
      "name": "python"
    }
  },
  "nbformat": 4,
  "nbformat_minor": 0
}