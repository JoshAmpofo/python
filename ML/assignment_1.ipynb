{
 "cells": [
  {
   "cell_type": "markdown",
   "id": "b7f5bb53",
   "metadata": {},
   "source": [
    "# Question\n",
    "Calculate how many GHS 1 notes, GHS 2 notes, and GHS 5 notes will be dispensed for each amount requested by the user.\n",
    "Take as input, the number of GHS 1 notes, GHS 2 notes, GHS 5 notes, GHS 10 notes, GHS 20 notes, and GHS 50 notes, and calculate how many notes of each will be dispensed for each amount requested by the user"
   ]
  },
  {
   "cell_type": "markdown",
   "id": "950d11f7",
   "metadata": {},
   "source": [
    "# Pseudocode"
   ]
  },
  {
   "cell_type": "markdown",
   "id": "292b8c55",
   "metadata": {},
   "source": [
    "1. create an array to store denominations and number of notes\n",
    "2. calculate the number of notes required for each denomination based on the amount provided by user\n",
    "3. check the number of notes left to add up to the amount requested by the user\n",
    "4. return number of notes per each denomination required to make full amount requested by the user"
   ]
  },
  {
   "cell_type": "code",
   "execution_count": 1,
   "id": "5608cf19",
   "metadata": {
    "scrolled": true
   },
   "outputs": [
    {
     "name": "stdout",
     "output_type": "stream",
     "text": [
      "Enter amount to withdraw (GHS): 2393\n",
      "\n",
      "Denominations needed are:\n",
      "GHS 50:47\n",
      "GHS 20:2\n",
      "GHS 10:0\n",
      "GHS 5:0\n",
      "GHS 2:1\n",
      "GHS 1:1\n"
     ]
    }
   ],
   "source": [
    "# create function to execute above code\n",
    "def atm(amount):\n",
    "    \"\"\"calculates the number of notes to be dispensed to user\"\"\"\n",
    "    denoms = [50, 20, 10, 5, 2, 1]\n",
    "    num_notes = []\n",
    "    \n",
    "    # calculate the number of notes that each denomination makes of the amnt provided by user\n",
    "    for denom in denoms:\n",
    "        notes = amount // denom # how many notes in amount\n",
    "        amount %= denom # notes remaining to make up amount \n",
    "        num_notes.append(notes) # add number of notes to new list\n",
    "    return num_notes\n",
    "\n",
    "# ask for user input\n",
    "amount = int(input('Enter amount to withdraw (GHS): '))\n",
    "disp_notes = atm(amount)\n",
    "denoms = [50, 20, 10, 5, 2, 1]\n",
    "print(f'\\nDenominations needed are:')\n",
    "for denom in range(len(denoms)):\n",
    "    print(f'GHS {denoms[denom]}:{(disp_notes[denom])}')"
   ]
  },
  {
   "cell_type": "markdown",
   "id": "ee341edd",
   "metadata": {},
   "source": [
    "# unittests"
   ]
  },
  {
   "cell_type": "code",
   "execution_count": 2,
   "id": "286ce842",
   "metadata": {},
   "outputs": [
    {
     "name": "stderr",
     "output_type": "stream",
     "text": [
      "test_non_numerical_value (__main__.TestAtm)\n",
      "test function on non_numerical values ... ok\n",
      "test_various_denoms (__main__.TestAtm)\n",
      "test the function on returning the correct denominations ... ok\n",
      "\n",
      "----------------------------------------------------------------------\n",
      "Ran 2 tests in 0.004s\n",
      "\n",
      "OK\n"
     ]
    },
    {
     "data": {
      "text/plain": [
       "<unittest.main.TestProgram at 0x20d23280550>"
      ]
     },
     "execution_count": 2,
     "metadata": {},
     "output_type": "execute_result"
    }
   ],
   "source": [
    "import unittest\n",
    "\n",
    "class TestAtm(unittest.TestCase):\n",
    "    \"\"\"Test case suite for ATM algorithm\"\"\"\n",
    "    \n",
    "    def test_various_denoms(self):\n",
    "        \"\"\"test the function on returning the correct denominations\"\"\"\n",
    "        self.assertEqual(atm(100), [2, 0, 0, 0, 0, 0])\n",
    "        self.assertEqual(atm(2), [0, 0, 0, 0, 1, 0])\n",
    "        self.assertEqual(atm(2399), [47, 2, 0, 1, 2, 0])\n",
    "        self.assertEqual(atm(0), [0, 0, 0, 0, 0, 0])\n",
    "        self.assertEqual(atm(9999999999), [199999999, 2, 0, 1, 2, 0])\n",
    "\n",
    "\n",
    "    \n",
    "    def test_non_numerical_value(self):\n",
    "        \"\"\"test function on non_numerical values\"\"\"\n",
    "        with self.assertRaises(TypeError):\n",
    "            atm(\"50\")\n",
    "        self.assertEqual(atm(True), [0, 0, 0, 0, 0, 1])\n",
    "        self.assertEqual(atm(False), [0, 0, 0, 0, 0, 0])\n",
    "\n",
    "        \n",
    "unittest.main(argv=[''], verbosity=2, exit=False)"
   ]
  }
 ],
 "metadata": {
  "kernelspec": {
   "display_name": "Python 3 (ipykernel)",
   "language": "python",
   "name": "python3"
  },
  "language_info": {
   "codemirror_mode": {
    "name": "ipython",
    "version": 3
   },
   "file_extension": ".py",
   "mimetype": "text/x-python",
   "name": "python",
   "nbconvert_exporter": "python",
   "pygments_lexer": "ipython3",
   "version": "3.10.9"
  }
 },
 "nbformat": 4,
 "nbformat_minor": 5
}
